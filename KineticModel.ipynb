{
 "cells": [
  {
   "cell_type": "code",
   "execution_count": 35,
   "id": "6bcf909f-1166-4095-99de-7d01b13d6335",
   "metadata": {},
   "outputs": [
    {
     "ename": "SyntaxError",
     "evalue": "invalid syntax (314576635.py, line 31)",
     "output_type": "error",
     "traceback": [
      "\u001b[1;36m  Cell \u001b[1;32mIn[35], line 31\u001b[1;36m\u001b[0m\n\u001b[1;33m    data_frames[\"0_10\"][\"G_alpha\"]=\u001b[0m\n\u001b[1;37m                                   ^\u001b[0m\n\u001b[1;31mSyntaxError\u001b[0m\u001b[1;31m:\u001b[0m invalid syntax\n"
     ]
    }
   ],
   "source": [
    "import pandas as pd\n",
    "import numpy as np\n",
    "import glob\n",
    "\n",
    "file_pattern = 'C:/Users/kiran/OneDrive/Desktop/Internship/data/HP*.txt'\n",
    "file_paths = glob.glob(file_pattern)\n",
    "\n",
    "data_frames = {}\n",
    "\n",
    "for file_path in file_paths:\n",
    "    filename = file_path.split('\\\\')[-1].split('.')[0]\n",
    "    conditions = filename.split('_')\n",
    "    condition_1 = conditions[0][2:]\n",
    "    condition_2 = conditions[1]\n",
    "    condition = f'{condition_1}_{condition_2}'\n",
    "    \n",
    "    try:\n",
    "        df = pd.read_csv(file_path, sep=';', header=0, encoding='latin1')\n",
    "        df[\"Alpha\"] = (100 - df[\"Mass/%\"]) / 1.66\n",
    "        data_frames[condition] = df\n",
    "    \n",
    "    except pd.errors.ParserError as e:\n",
    "        print(f\"ParserError: {e}\")\n",
    "\n",
    "def FAlpha(data_frames, model):\n",
    "    if model == 'D1':\n",
    "        data_frames[\"0_10\"][\"F_alpha\"] = 1 / (2 * data_frames[\"0_10\"][\"Alpha\"])\n",
    "        data_frames[\"0_10\"][\"G_alpha\"]= data_frames[\"0_10\"][\"Alpha\"]*data_frames[\"0_10\"][\"Alpha\"]\n",
    "    elif model == 'D2':\n",
    "        data_frames[\"0_10\"][\"F_alpha\"] = (-np.log(1 - data_frames[\"0_10\"][\"Alpha\"])) ** (-1)\n",
    "        data_frames[\"0_10\"][\"G_alpha\"]=(1 - alpha_values) * np.log(1 - alpha_values) + alpha_values\n",
    "    elif model == 'D3':\n",
    "        part1 = ((3 / 2) * (1 - data_frames[\"0_10\"][\"Alpha\"])) ** (2 / 3)\n",
    "        part2 = 1 - (1 - data_frames[\"0_10\"][\"Alpha\"]) ** (1 / 3)\n",
    "        data_frames[\"0_10\"][\"F_alpha\"] = part1 * part2\n",
    "         term1 = 1 - (1 - alpha) ** (1/3)\n",
    "         result = term1 ** 2\n",
    "        data_frames[\"0_10\"][\"G_alpha\"]=result\n",
    "    elif model == 'D4':\n",
    "        term1 = (1 - data_frames[\"0_10\"][\"Alpha\"]) ** (-1/3) - 1\n",
    "        result = (term1 ** (-1/3)) * (3 / 2)\n",
    "        data_frames[\"0_10\"][\"F_alpha\"] = result\n",
    "        data_frames[\"0_10\"][\"G_alpha\"]=\n",
    "    elif model == 'F0':\n",
    "        data_frames[\"0_10\"][\"F_alpha\"] = 1\n",
    "        data_frames[\"0_10\"][\"G_alpha\"]=\n",
    "    elif model == 'F1':\n",
    "        data_frames[\"0_10\"][\"F_alpha\"] = 1 - data_frames[\"0_10\"][\"Alpha\"]\n",
    "        \n",
    "    elif model == 'R2':\n",
    "        result = 2 * ((1 - data_frames[\"0_10\"][\"Alpha\"]) ** (1 / 2))\n",
    "        data_frames[\"0_10\"][\"F_alpha\"] = result\n",
    "    elif model == 'R3':\n",
    "        result = 3 * ((1 - data_frames[\"0_10\"][\"Alpha\"]) ** (2 / 3))\n",
    "        data_frames[\"0_10\"][\"F_alpha\"] = result\n",
    "    elif model == 'A2':\n",
    "        term1 = 2 * (1 - data_frames[\"0_10\"][\"Alpha\"])\n",
    "        term2 = (-np.log(1 - data_frames[\"0_10\"][\"Alpha\"])) ** (1 / 2)\n",
    "        result = term1 * term2\n",
    "        data_frames[\"0_10\"][\"F_alpha\"] = result\n",
    "    elif model == 'A3':\n",
    "        term1 = 3 * (1 - data_frames[\"0_10\"][\"Alpha\"])\n",
    "        term2 = (-np.log(1 - data_frames[\"0_10\"][\"Alpha\"])) ** (2 / 3)\n",
    "        result = term1 * term2\n",
    "        data_frames[\"0_10\"][\"F_alpha\"] = result\n",
    "    else:\n",
    "        print(f\"Unknown model: {model}\")\n",
    "\n",
    "model = input('Enter the model name: ') \n",
    "FAlpha(data_frames, model)\n",
    "\n",
    "# print(data_frames[\"0_10\"])\n"
   ]
  },
  {
   "cell_type": "code",
   "execution_count": null,
   "id": "0c0362d7-98f7-4421-bc70-ffb7004ee770",
   "metadata": {},
   "outputs": [],
   "source": []
  },
  {
   "cell_type": "code",
   "execution_count": null,
   "id": "cc51897f-b782-4c20-af8a-1c6b838486bd",
   "metadata": {},
   "outputs": [],
   "source": []
  }
 ],
 "metadata": {
  "kernelspec": {
   "display_name": "Python 3 (ipykernel)",
   "language": "python",
   "name": "python3"
  },
  "language_info": {
   "codemirror_mode": {
    "name": "ipython",
    "version": 3
   },
   "file_extension": ".py",
   "mimetype": "text/x-python",
   "name": "python",
   "nbconvert_exporter": "python",
   "pygments_lexer": "ipython3",
   "version": "3.11.7"
  }
 },
 "nbformat": 4,
 "nbformat_minor": 5
}
